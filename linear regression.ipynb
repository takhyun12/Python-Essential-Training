{
  "nbformat": 4,
  "nbformat_minor": 0,
  "metadata": {
    "colab": {
      "name": "assignment1.ipynb",
      "provenance": [],
      "collapsed_sections": [],
      "machine_shape": "hm"
    },
    "kernelspec": {
      "name": "python3",
      "display_name": "Python 3"
    },
    "language_info": {
      "name": "python"
    },
    "accelerator": "GPU"
  },
  "cells": [
    {
      "cell_type": "code",
      "metadata": {
        "id": "igJBrM4BH4Uh"
      },
      "source": [
        "import torch\n",
        "import torch.nn as nn\n",
        "import torch.nn.functional as F\n",
        "import pandas as pd"
      ],
      "execution_count": 1,
      "outputs": []
    },
    {
      "cell_type": "code",
      "metadata": {
        "id": "Nb041rkxINzs"
      },
      "source": [
        "df = pd.read_csv('assignment1.csv', encoding='euc-kr')\n",
        "df = df.dropna()"
      ],
      "execution_count": 8,
      "outputs": []
    },
    {
      "cell_type": "code",
      "metadata": {
        "colab": {
          "base_uri": "https://localhost:8080/",
          "height": 423
        },
        "id": "fmAe2bGAIQhE",
        "outputId": "b2e4b981-3028-4d2f-e32b-c5c3ec69e628"
      },
      "source": [
        "df"
      ],
      "execution_count": 9,
      "outputs": [
        {
          "output_type": "execute_result",
          "data": {
            "text/html": [
              "<div>\n",
              "<style scoped>\n",
              "    .dataframe tbody tr th:only-of-type {\n",
              "        vertical-align: middle;\n",
              "    }\n",
              "\n",
              "    .dataframe tbody tr th {\n",
              "        vertical-align: top;\n",
              "    }\n",
              "\n",
              "    .dataframe thead th {\n",
              "        text-align: right;\n",
              "    }\n",
              "</style>\n",
              "<table border=\"1\" class=\"dataframe\">\n",
              "  <thead>\n",
              "    <tr style=\"text-align: right;\">\n",
              "      <th></th>\n",
              "      <th>지점</th>\n",
              "      <th>지점명</th>\n",
              "      <th>일시</th>\n",
              "      <th>기온(°C)</th>\n",
              "      <th>지면온도(°C)</th>\n",
              "    </tr>\n",
              "  </thead>\n",
              "  <tbody>\n",
              "    <tr>\n",
              "      <th>0</th>\n",
              "      <td>232</td>\n",
              "      <td>천안</td>\n",
              "      <td>2020-01-01 01:00</td>\n",
              "      <td>-8.7</td>\n",
              "      <td>-2.9</td>\n",
              "    </tr>\n",
              "    <tr>\n",
              "      <th>1</th>\n",
              "      <td>232</td>\n",
              "      <td>천안</td>\n",
              "      <td>2020-01-01 02:00</td>\n",
              "      <td>-7.3</td>\n",
              "      <td>-2.4</td>\n",
              "    </tr>\n",
              "    <tr>\n",
              "      <th>2</th>\n",
              "      <td>232</td>\n",
              "      <td>천안</td>\n",
              "      <td>2020-01-01 03:00</td>\n",
              "      <td>-6.7</td>\n",
              "      <td>-2.2</td>\n",
              "    </tr>\n",
              "    <tr>\n",
              "      <th>3</th>\n",
              "      <td>232</td>\n",
              "      <td>천안</td>\n",
              "      <td>2020-01-01 04:00</td>\n",
              "      <td>-6.2</td>\n",
              "      <td>-2.0</td>\n",
              "    </tr>\n",
              "    <tr>\n",
              "      <th>4</th>\n",
              "      <td>232</td>\n",
              "      <td>천안</td>\n",
              "      <td>2020-01-01 05:00</td>\n",
              "      <td>-5.9</td>\n",
              "      <td>-1.9</td>\n",
              "    </tr>\n",
              "    <tr>\n",
              "      <th>...</th>\n",
              "      <td>...</td>\n",
              "      <td>...</td>\n",
              "      <td>...</td>\n",
              "      <td>...</td>\n",
              "      <td>...</td>\n",
              "    </tr>\n",
              "    <tr>\n",
              "      <th>8777</th>\n",
              "      <td>232</td>\n",
              "      <td>천안</td>\n",
              "      <td>2020-12-31 19:00</td>\n",
              "      <td>-6.6</td>\n",
              "      <td>-0.6</td>\n",
              "    </tr>\n",
              "    <tr>\n",
              "      <th>8778</th>\n",
              "      <td>232</td>\n",
              "      <td>천안</td>\n",
              "      <td>2020-12-31 20:00</td>\n",
              "      <td>-6.4</td>\n",
              "      <td>-0.7</td>\n",
              "    </tr>\n",
              "    <tr>\n",
              "      <th>8779</th>\n",
              "      <td>232</td>\n",
              "      <td>천안</td>\n",
              "      <td>2020-12-31 21:00</td>\n",
              "      <td>-7.3</td>\n",
              "      <td>-1.2</td>\n",
              "    </tr>\n",
              "    <tr>\n",
              "      <th>8780</th>\n",
              "      <td>232</td>\n",
              "      <td>천안</td>\n",
              "      <td>2020-12-31 22:00</td>\n",
              "      <td>-9.0</td>\n",
              "      <td>-1.5</td>\n",
              "    </tr>\n",
              "    <tr>\n",
              "      <th>8781</th>\n",
              "      <td>232</td>\n",
              "      <td>천안</td>\n",
              "      <td>2020-12-31 23:00</td>\n",
              "      <td>-9.2</td>\n",
              "      <td>-1.2</td>\n",
              "    </tr>\n",
              "  </tbody>\n",
              "</table>\n",
              "<p>8779 rows × 5 columns</p>\n",
              "</div>"
            ],
            "text/plain": [
              "       지점 지점명                일시  기온(°C)  지면온도(°C)\n",
              "0     232  천안  2020-01-01 01:00    -8.7      -2.9\n",
              "1     232  천안  2020-01-01 02:00    -7.3      -2.4\n",
              "2     232  천안  2020-01-01 03:00    -6.7      -2.2\n",
              "3     232  천안  2020-01-01 04:00    -6.2      -2.0\n",
              "4     232  천안  2020-01-01 05:00    -5.9      -1.9\n",
              "...   ...  ..               ...     ...       ...\n",
              "8777  232  천안  2020-12-31 19:00    -6.6      -0.6\n",
              "8778  232  천안  2020-12-31 20:00    -6.4      -0.7\n",
              "8779  232  천안  2020-12-31 21:00    -7.3      -1.2\n",
              "8780  232  천안  2020-12-31 22:00    -9.0      -1.5\n",
              "8781  232  천안  2020-12-31 23:00    -9.2      -1.2\n",
              "\n",
              "[8779 rows x 5 columns]"
            ]
          },
          "metadata": {},
          "execution_count": 9
        }
      ]
    },
    {
      "cell_type": "code",
      "metadata": {
        "id": "jpYhTu6LJVTm"
      },
      "source": [
        "x_data = df.iloc[:, -2:-1].values\n",
        "y_data = df.iloc[:, -1:].values\n",
        "\n",
        "x_data = torch.FloatTensor(x_data)\n",
        "y_data = torch.FloatTensor(y_data)"
      ],
      "execution_count": 16,
      "outputs": []
    },
    {
      "cell_type": "code",
      "metadata": {
        "colab": {
          "base_uri": "https://localhost:8080/"
        },
        "id": "QLVlqBTmLhi3",
        "outputId": "540e38d7-7c43-4c46-cc75-fecfe2fb059b"
      },
      "source": [
        "torch.manual_seed(1)"
      ],
      "execution_count": 17,
      "outputs": [
        {
          "output_type": "execute_result",
          "data": {
            "text/plain": [
              "<torch._C.Generator at 0x7f105733ce90>"
            ]
          },
          "metadata": {},
          "execution_count": 17
        }
      ]
    },
    {
      "cell_type": "code",
      "metadata": {
        "id": "w_6WNHbMKeSU",
        "colab": {
          "base_uri": "https://localhost:8080/"
        },
        "outputId": "a86dba41-3daa-47e7-9493-eface7b62842"
      },
      "source": [
        "model = nn.Linear(1,1)\n",
        "optimizer = torch.optim.SGD(model.parameters(), lr=0.001) \n",
        "\n",
        "nb_epochs = 2000\n",
        "for epoch in range(nb_epochs+1):\n",
        "    prediction = model(x_data)\n",
        "    cost = F.mse_loss(prediction, y_data)\n",
        "    optimizer.zero_grad()\n",
        "    cost.backward()\n",
        "    optimizer.step()\n",
        "\n",
        "    if epoch % 100 == 0:\n",
        "      print(f'Epoch:  {epoch}/{nb_epochs} / Cost: {cost.item()}')"
      ],
      "execution_count": 23,
      "outputs": [
        {
          "output_type": "stream",
          "name": "stdout",
          "text": [
            "Epoch:  0/2000 / Cost: 436.4112548828125\n",
            "Epoch:  100/2000 / Cost: 12.984987258911133\n",
            "Epoch:  200/2000 / Cost: 12.980703353881836\n",
            "Epoch:  300/2000 / Cost: 12.977059364318848\n",
            "Epoch:  400/2000 / Cost: 12.97396183013916\n",
            "Epoch:  500/2000 / Cost: 12.97132682800293\n",
            "Epoch:  600/2000 / Cost: 12.969087600708008\n",
            "Epoch:  700/2000 / Cost: 12.967185020446777\n",
            "Epoch:  800/2000 / Cost: 12.965564727783203\n",
            "Epoch:  900/2000 / Cost: 12.964189529418945\n",
            "Epoch:  1000/2000 / Cost: 12.963019371032715\n",
            "Epoch:  1100/2000 / Cost: 12.962023735046387\n",
            "Epoch:  1200/2000 / Cost: 12.96117877960205\n",
            "Epoch:  1300/2000 / Cost: 12.960458755493164\n",
            "Epoch:  1400/2000 / Cost: 12.959848403930664\n",
            "Epoch:  1500/2000 / Cost: 12.959329605102539\n",
            "Epoch:  1600/2000 / Cost: 12.958887100219727\n",
            "Epoch:  1700/2000 / Cost: 12.95850944519043\n",
            "Epoch:  1800/2000 / Cost: 12.95819091796875\n",
            "Epoch:  1900/2000 / Cost: 12.95792007446289\n",
            "Epoch:  2000/2000 / Cost: 12.95768928527832\n"
          ]
        }
      ]
    }
  ]
}